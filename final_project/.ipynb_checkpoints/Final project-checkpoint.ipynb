{
 "cells": [
  {
   "cell_type": "markdown",
   "metadata": {},
   "source": [
    "# Final project"
   ]
  },
  {
   "cell_type": "markdown",
   "metadata": {},
   "source": [
    "## Understanding the Dataset and Question"
   ]
  },
  {
   "cell_type": "markdown",
   "metadata": {},
   "source": [
    "### Data exploration"
   ]
  },
  {
   "cell_type": "code",
   "execution_count": 1,
   "metadata": {},
   "outputs": [],
   "source": [
    "import sys\n",
    "import pickle\n",
    "import matplotlib.pyplot as plt\n",
    "sys.path.append(\"../tools/\")\n",
    "\n",
    "### Load the dictionary containing the dataset\n",
    "with open(\"final_project_dataset.pkl\", \"r\") as data_file:\n",
    "    data_dict = pickle.load(data_file)"
   ]
  },
  {
   "cell_type": "markdown",
   "metadata": {},
   "source": [
    "#### Total number of data points:"
   ]
  },
  {
   "cell_type": "code",
   "execution_count": 2,
   "metadata": {},
   "outputs": [
    {
     "name": "stdout",
     "output_type": "stream",
     "text": [
      "146\n"
     ]
    }
   ],
   "source": [
    "print len(data_dict)"
   ]
  },
  {
   "cell_type": "markdown",
   "metadata": {},
   "source": [
    "#### Allocation across classes:"
   ]
  },
  {
   "cell_type": "code",
   "execution_count": 3,
   "metadata": {},
   "outputs": [
    {
     "name": "stdout",
     "output_type": "stream",
     "text": [
      "18\n"
     ]
    }
   ],
   "source": [
    "print len(list(name for name in data_dict.keys() if data_dict[name][\"poi\"] == 1))"
   ]
  },
  {
   "cell_type": "markdown",
   "metadata": {},
   "source": [
    "#### Number of features used:"
   ]
  },
  {
   "cell_type": "code",
   "execution_count": 4,
   "metadata": {},
   "outputs": [
    {
     "name": "stdout",
     "output_type": "stream",
     "text": [
      "21\n"
     ]
    }
   ],
   "source": [
    "features = set()\n",
    "for name in data_dict.keys():\n",
    "    for key in data_dict[name].keys():\n",
    "        features.add(key)\n",
    "\n",
    "print len(features)"
   ]
  },
  {
   "cell_type": "markdown",
   "metadata": {},
   "source": [
    "#### Features with missing values:"
   ]
  },
  {
   "cell_type": "code",
   "execution_count": 5,
   "metadata": {},
   "outputs": [
    {
     "name": "stdout",
     "output_type": "stream",
     "text": [
      "loan_advances 142\n",
      "director_fees 129\n",
      "restricted_stock_deferred 128\n",
      "deferral_payments 107\n",
      "deferred_income 97\n",
      "long_term_incentive 80\n",
      "bonus 64\n",
      "to_messages 60\n",
      "shared_receipt_with_poi 60\n",
      "from_this_person_to_poi 60\n",
      "from_poi_to_this_person 60\n",
      "from_messages 60\n",
      "other 53\n",
      "salary 51\n",
      "expenses 51\n",
      "exercised_stock_options 44\n",
      "restricted_stock 36\n",
      "email_address 35\n",
      "total_payments 21\n",
      "total_stock_value 20\n",
      "poi 0\n"
     ]
    }
   ],
   "source": [
    "missing_values = {}\n",
    "for feature in features:\n",
    "    missing_values[feature] = len(list(name for name in data_dict.keys() if data_dict[name][feature] == 'NaN'))\n",
    "    \n",
    "for feature, n in sorted(missing_values.iteritems(), key=lambda (k, v): (v, k), reverse=True):\n",
    "    print feature, n"
   ]
  },
  {
   "cell_type": "markdown",
   "metadata": {},
   "source": [
    "#### Features with values equal to zero:"
   ]
  },
  {
   "cell_type": "code",
   "execution_count": 6,
   "metadata": {},
   "outputs": [
    {
     "name": "stdout",
     "output_type": "stream",
     "text": [
      "poi 128\n",
      "from_this_person_to_poi 20\n",
      "from_poi_to_this_person 12\n",
      "total_stock_value 0\n",
      "total_payments 0\n",
      "to_messages 0\n",
      "shared_receipt_with_poi 0\n",
      "salary 0\n",
      "restricted_stock_deferred 0\n",
      "restricted_stock 0\n",
      "other 0\n",
      "long_term_incentive 0\n",
      "loan_advances 0\n",
      "from_messages 0\n",
      "expenses 0\n",
      "exercised_stock_options 0\n",
      "email_address 0\n",
      "director_fees 0\n",
      "deferred_income 0\n",
      "deferral_payments 0\n",
      "bonus 0\n"
     ]
    }
   ],
   "source": [
    "zero_values = {}\n",
    "for feature in features:\n",
    "    zero_values[feature] = len(list(name for name in data_dict.keys() if data_dict[name][feature] == 0))\n",
    "    \n",
    "for feature, n in sorted(zero_values.iteritems(), key=lambda (k, v): (v, k), reverse=True):\n",
    "    print feature, n"
   ]
  },
  {
   "cell_type": "markdown",
   "metadata": {},
   "source": [
    "##### Nan can be replaced by 0 wherever there is no ambiguity:"
   ]
  },
  {
   "cell_type": "code",
   "execution_count": 7,
   "metadata": {},
   "outputs": [
    {
     "name": "stdout",
     "output_type": "stream",
     "text": [
      "loan_advances 142\n",
      "director_fees 129\n",
      "restricted_stock_deferred 128\n",
      "poi 128\n",
      "deferral_payments 107\n",
      "deferred_income 97\n",
      "long_term_incentive 80\n",
      "bonus 64\n",
      "to_messages 60\n",
      "shared_receipt_with_poi 60\n",
      "from_messages 60\n",
      "other 53\n",
      "salary 51\n",
      "expenses 51\n",
      "exercised_stock_options 44\n",
      "restricted_stock 36\n",
      "total_payments 21\n",
      "total_stock_value 20\n",
      "from_this_person_to_poi 20\n",
      "from_poi_to_this_person 12\n",
      "email_address 0\n"
     ]
    }
   ],
   "source": [
    "for feature in features:\n",
    "    if zero_values[feature] == 0 and not feature =='email_address':\n",
    "        for name in data_dict.keys():\n",
    "            if data_dict[name][feature] == 'NaN':\n",
    "                data_dict[name][feature] = 0\n",
    "        \n",
    "zero_values = {}\n",
    "for feature in features:\n",
    "    zero_values[feature] = len(list(name for name in data_dict.keys() if data_dict[name][feature] == 0))\n",
    "    \n",
    "for feature, n in sorted(zero_values.iteritems(), key=lambda (k, v): (v, k), reverse=True):\n",
    "    print feature, n"
   ]
  },
  {
   "cell_type": "markdown",
   "metadata": {},
   "source": [
    "### Outlier investigation"
   ]
  },
  {
   "cell_type": "code",
   "execution_count": 8,
   "metadata": {},
   "outputs": [
    {
     "data": {
      "image/png": "[encoded data removed]",
      "text/plain": [
       "<Figure size 432x288 with 1 Axes>"
      ]
     },
     "metadata": {},
     "output_type": "display_data"
    }
   ],
   "source": [
    "for record in data_dict.items():\n",
    "    salary = record[1]['salary']\n",
    "    bonus = record[1]['bonus']\n",
    "    plt.scatter( salary, bonus )\n",
    "\n",
    "plt.xlabel(\"Salary\")\n",
    "plt.ylabel(\"Bonus\")\n",
    "plt.show()"
   ]
  },
  {
   "cell_type": "code",
   "execution_count": 9,
   "metadata": {},
   "outputs": [
    {
     "name": "stdout",
     "output_type": "stream",
     "text": [
      "('TOTAL', {'salary': 26704229, 'to_messages': 0, 'deferral_payments': 32083396, 'total_payments': 309886585, 'exercised_stock_options': 311764000, 'bonus': 97343619, 'restricted_stock': 130322299, 'shared_receipt_with_poi': 0, 'restricted_stock_deferred': -7576788, 'total_stock_value': 434509511, 'expenses': 5235198, 'loan_advances': 83925000, 'from_messages': 0, 'other': 42667589, 'from_this_person_to_poi': 'NaN', 'poi': False, 'director_fees': 1398517, 'deferred_income': -27992891, 'long_term_incentive': 48521928, 'email_address': 'NaN', 'from_poi_to_this_person': 'NaN'})\n"
     ]
    }
   ],
   "source": [
    "print max(data_dict.items(), key=lambda record: float(record[1]['salary']))"
   ]
  },
  {
   "cell_type": "code",
   "execution_count": 10,
   "metadata": {},
   "outputs": [
    {
     "data": {
      "text/plain": [
       "{'bonus': 97343619,\n",
       " 'deferral_payments': 32083396,\n",
       " 'deferred_income': -27992891,\n",
       " 'director_fees': 1398517,\n",
       " 'email_address': 'NaN',\n",
       " 'exercised_stock_options': 311764000,\n",
       " 'expenses': 5235198,\n",
       " 'from_messages': 0,\n",
       " 'from_poi_to_this_person': 'NaN',\n",
       " 'from_this_person_to_poi': 'NaN',\n",
       " 'loan_advances': 83925000,\n",
       " 'long_term_incentive': 48521928,\n",
       " 'other': 42667589,\n",
       " 'poi': False,\n",
       " 'restricted_stock': 130322299,\n",
       " 'restricted_stock_deferred': -7576788,\n",
       " 'salary': 26704229,\n",
       " 'shared_receipt_with_poi': 0,\n",
       " 'to_messages': 0,\n",
       " 'total_payments': 309886585,\n",
       " 'total_stock_value': 434509511}"
      ]
     },
     "execution_count": 10,
     "metadata": {},
     "output_type": "execute_result"
    }
   ],
   "source": [
    "data_dict.pop('TOTAL', 0)"
   ]
  },
  {
   "cell_type": "code",
   "execution_count": 11,
   "metadata": {},
   "outputs": [
    {
     "data": {
      "image/png": "[encoded data removed]",
      "text/plain": [
       "<Figure size 432x288 with 1 Axes>"
      ]
     },
     "metadata": {},
     "output_type": "display_data"
    }
   ],
   "source": [
    "for record in data_dict.items():\n",
    "    salary = record[1]['salary']\n",
    "    bonus = record[1]['bonus']\n",
    "    plt.scatter(salary, bonus)\n",
    "\n",
    "plt.xlabel(\"Salary\")\n",
    "plt.ylabel(\"Bonus\")\n",
    "plt.show()"
   ]
  },
  {
   "cell_type": "markdown",
   "metadata": {},
   "source": [
    "##### Comparing total_payments to the sum of all known payments:"
   ]
  },
  {
   "cell_type": "code",
   "execution_count": 12,
   "metadata": {},
   "outputs": [
    {
     "name": "stdout",
     "output_type": "stream",
     "text": [
      "BELFER ROBERT 102500 -99215\n",
      "BHATNAGAR SANJAY 15456290 275728\n"
     ]
    },
    {
     "data": {
      "image/png": "[encoded data removed]",
      "text/plain": [
       "<Figure size 432x288 with 1 Axes>"
      ]
     },
     "metadata": {},
     "output_type": "display_data"
    }
   ],
   "source": [
    "sum_different_from_total = []\n",
    "\n",
    "for record in data_dict.items():\n",
    "    total_payments = record[1]['total_payments']\n",
    "    sum_known_payments = record[1]['bonus'] + \\\n",
    "                        record[1]['deferral_payments'] + \\\n",
    "                        record[1]['director_fees'] + \\\n",
    "                        record[1]['expenses'] + \\\n",
    "                        record[1]['loan_advances'] + \\\n",
    "                        record[1]['long_term_incentive'] + \\\n",
    "                        record[1]['other'] + \\\n",
    "                        record[1]['salary'] + \\\n",
    "                        record[1]['deferred_income']\n",
    "                        \n",
    "    if sum_known_payments <> total_payments:\n",
    "        sum_different_from_total.append(record)\n",
    "        print record[0], total_payments, sum_known_payments\n",
    "    \n",
    "    plt.scatter(total_payments, sum_known_payments)\n",
    "\n",
    "plt.plot([0, 1e8], [0, 1e8], color='k')\n",
    "plt.xlabel(\"Total payments\")\n",
    "plt.ylabel(\"Sum of known payments\")\n",
    "plt.show()"
   ]
  },
  {
   "cell_type": "code",
   "execution_count": 13,
   "metadata": {},
   "outputs": [
    {
     "name": "stdout",
     "output_type": "stream",
     "text": [
      "('LAY KENNETH L', {'salary': 1072321, 'to_messages': 4273, 'deferral_payments': 202911, 'total_payments': 103559793, 'exercised_stock_options': 34348384, 'bonus': 7000000, 'restricted_stock': 14761694, 'shared_receipt_with_poi': 2411, 'restricted_stock_deferred': 0, 'total_stock_value': 49110078, 'expenses': 99832, 'loan_advances': 81525000, 'from_messages': 36, 'other': 10359729, 'from_this_person_to_poi': 16, 'poi': True, 'director_fees': 0, 'deferred_income': -300000, 'long_term_incentive': 3600000, 'email_address': 'kenneth.lay@enron.com', 'from_poi_to_this_person': 123})\n"
     ]
    }
   ],
   "source": [
    "print max(data_dict.items(), key=lambda record: float(record[1]['total_payments']))"
   ]
  },
  {
   "cell_type": "markdown",
   "metadata": {},
   "source": [
    "##### Stock features:"
   ]
  },
  {
   "cell_type": "code",
   "execution_count": 14,
   "metadata": {},
   "outputs": [
    {
     "name": "stdout",
     "output_type": "stream",
     "text": [
      "BELFER ROBERT -44093 47378\n",
      "BHATNAGAR SANJAY 0 15456290\n"
     ]
    },
    {
     "data": {
      "image/png": "[encoded data removed]",
      "text/plain": [
       "<Figure size 432x288 with 1 Axes>"
      ]
     },
     "metadata": {},
     "output_type": "display_data"
    }
   ],
   "source": [
    "sum_above_total = []\n",
    "\n",
    "for record in data_dict.items():\n",
    "    total_stock_value = record[1]['total_stock_value']\n",
    "    sum_known_stock_value = record[1]['exercised_stock_options'] + \\\n",
    "                            record[1]['restricted_stock'] + \\\n",
    "                            record[1]['restricted_stock_deferred']\n",
    "                        \n",
    "    if sum_known_stock_value <> total_stock_value:\n",
    "        sum_above_total.append(record)\n",
    "        print record[0], total_stock_value, sum_known_stock_value\n",
    "    \n",
    "    plt.scatter(total_stock_value, sum_known_stock_value)\n",
    "\n",
    "plt.plot([0, 5e7], [0, 5e7], color='k')\n",
    "plt.xlabel(\"Total stock value\")\n",
    "plt.ylabel(\"Sum of known stock value\")\n",
    "plt.show()"
   ]
  },
  {
   "cell_type": "code",
   "execution_count": 15,
   "metadata": {},
   "outputs": [
    {
     "name": "stdout",
     "output_type": "stream",
     "text": [
      "{'salary': 0, 'to_messages': 0, 'deferral_payments': -102500, 'total_payments': 102500, 'exercised_stock_options': 3285, 'bonus': 0, 'restricted_stock': 0, 'shared_receipt_with_poi': 0, 'restricted_stock_deferred': 44093, 'total_stock_value': -44093, 'expenses': 0, 'loan_advances': 0, 'from_messages': 0, 'other': 0, 'from_this_person_to_poi': 'NaN', 'poi': False, 'director_fees': 3285, 'deferred_income': 0, 'long_term_incentive': 0, 'email_address': 'NaN', 'from_poi_to_this_person': 'NaN'}\n"
     ]
    }
   ],
   "source": [
    "print data_dict['BELFER ROBERT']"
   ]
  },
  {
   "cell_type": "code",
   "execution_count": 16,
   "metadata": {},
   "outputs": [
    {
     "name": "stdout",
     "output_type": "stream",
     "text": [
      "{'salary': 0, 'to_messages': 523, 'deferral_payments': 0, 'total_payments': 15456290, 'exercised_stock_options': 2604490, 'bonus': 0, 'restricted_stock': -2604490, 'shared_receipt_with_poi': 463, 'restricted_stock_deferred': 15456290, 'total_stock_value': 0, 'expenses': 0, 'loan_advances': 0, 'from_messages': 29, 'other': 137864, 'from_this_person_to_poi': 1, 'poi': False, 'director_fees': 137864, 'deferred_income': 0, 'long_term_incentive': 0, 'email_address': 'sanjay.bhatnagar@enron.com', 'from_poi_to_this_person': 0}\n"
     ]
    }
   ],
   "source": [
    "print data_dict['BHATNAGAR SANJAY']"
   ]
  },
  {
   "cell_type": "code",
   "execution_count": 17,
   "metadata": {},
   "outputs": [
    {
     "data": {
      "text/plain": [
       "{'bonus': 0,\n",
       " 'deferral_payments': 0,\n",
       " 'deferred_income': 0,\n",
       " 'director_fees': 137864,\n",
       " 'email_address': 'sanjay.bhatnagar@enron.com',\n",
       " 'exercised_stock_options': 2604490,\n",
       " 'expenses': 0,\n",
       " 'from_messages': 29,\n",
       " 'from_poi_to_this_person': 0,\n",
       " 'from_this_person_to_poi': 1,\n",
       " 'loan_advances': 0,\n",
       " 'long_term_incentive': 0,\n",
       " 'other': 137864,\n",
       " 'poi': False,\n",
       " 'restricted_stock': -2604490,\n",
       " 'restricted_stock_deferred': 15456290,\n",
       " 'salary': 0,\n",
       " 'shared_receipt_with_poi': 463,\n",
       " 'to_messages': 523,\n",
       " 'total_payments': 15456290,\n",
       " 'total_stock_value': 0}"
      ]
     },
     "execution_count": 17,
     "metadata": {},
     "output_type": "execute_result"
    }
   ],
   "source": [
    "data_dict.pop('BELFER ROBERT')\n",
    "data_dict.pop('BHATNAGAR SANJAY')"
   ]
  },
  {
   "cell_type": "markdown",
   "metadata": {},
   "source": [
    "## Optimize feature selection / engineering"
   ]
  },
  {
   "cell_type": "code",
   "execution_count": 18,
   "metadata": {},
   "outputs": [
    {
     "name": "stdout",
     "output_type": "stream",
     "text": [
      "[(24.714052256343795, 'exercised_stock_options'), (23.896807476321385, 'total_stock_value'), (20.524645181851792, 'bonus'), (18.003739993113935, 'salary'), (11.321486775141238, 'deferred_income'), (9.772103538408254, 'long_term_incentive'), (9.17556940305799, 'total_payments'), (8.99886174843595, 'restricted_stock'), (8.495111177152825, 'shared_receipt_with_poi'), (7.1253824688830685, 'loan_advances'), (5.954544292197293, 'expenses'), (5.14221919450697, 'from_poi_to_this_person'), (4.1028045216285225, 'other'), (2.3399524507556366, 'from_this_person_to_poi'), (1.9723088299289142, 'director_fees'), (1.6109754038652737, 'to_messages'), (0.8499660035977262, 'restricted_stock_deferred'), (0.23671093690118508, 'deferral_payments'), (0.17484071858227693, 'from_messages')]\n",
      "[(True, 'total_stock_value'), (True, 'salary'), (True, 'exercised_stock_options'), (True, 'bonus'), (False, 'total_payments'), (False, 'to_messages'), (False, 'shared_receipt_with_poi'), (False, 'restricted_stock_deferred'), (False, 'restricted_stock'), (False, 'other'), (False, 'long_term_incentive'), (False, 'loan_advances'), (False, 'from_this_person_to_poi'), (False, 'from_poi_to_this_person'), (False, 'from_messages'), (False, 'expenses'), (False, 'director_fees'), (False, 'deferred_income'), (False, 'deferral_payments')]\n"
     ]
    }
   ],
   "source": [
    "from feature_format import featureFormat, targetFeatureSplit\n",
    "\n",
    "features_list = ['poi', 'salary', 'deferral_payments', 'total_payments', 'loan_advances', 'bonus', 'restricted_stock_deferred', \n",
    "                 'deferred_income', 'total_stock_value', 'expenses', 'exercised_stock_options', 'other', 'long_term_incentive', \n",
    "                 'restricted_stock', 'director_fees', 'to_messages', 'from_poi_to_this_person', 'from_messages', \n",
    "                 'from_this_person_to_poi', 'shared_receipt_with_poi']\n",
    "\n",
    "data = featureFormat(data_dict, features_list)\n",
    "labels, features = targetFeatureSplit(data)\n",
    "\n",
    "from sklearn.feature_selection import SelectKBest\n",
    "\n",
    "k_best = SelectKBest(k=4)\n",
    "selected_features = k_best.fit_transform(features, labels)\n",
    "\n",
    "print sorted(zip(k_best.scores_, features_list[1:]), reverse=True)\n",
    "print sorted(zip(k_best.get_support(), features_list[1:]), reverse=True)"
   ]
  },
  {
   "cell_type": "code",
   "execution_count": 19,
   "metadata": {},
   "outputs": [
    {
     "name": "stdout",
     "output_type": "stream",
     "text": [
      "0.6976744186046512\n"
     ]
    }
   ],
   "source": [
    "from sklearn import model_selection\n",
    "import numpy as np\n",
    "\n",
    "np.random.seed(42) # to re-seed each time the cell is run\n",
    "features_train, features_test, labels_train, labels_test = model_selection.train_test_split(features, labels, \n",
    "                                                                                            test_size=.3, random_state=42)\n",
    "\n",
    "from sklearn import tree\n",
    "\n",
    "clf = tree.DecisionTreeClassifier()\n",
    "clf = clf.fit(features_train, labels_train)\n",
    "\n",
    "print clf.score (features_test, labels_test)"
   ]
  },
  {
   "cell_type": "code",
   "execution_count": 20,
   "metadata": {},
   "outputs": [
    {
     "name": "stdout",
     "output_type": "stream",
     "text": [
      "[0.83333333 0.70212766 0.74468085]\n",
      "0.7600472813238771\n"
     ]
    }
   ],
   "source": [
    "np.random.seed(42)\n",
    "score = np.array([])\n",
    "\n",
    "kf = model_selection.KFold(n_splits=3, random_state=42)\n",
    "for train_index, test_index in kf.split(features):\n",
    "    features_train = np.array(features)[train_index]\n",
    "    features_test = np.array(features)[test_index]\n",
    "    labels_train = np.array(labels)[train_index]\n",
    "    labels_test = np.array(labels)[test_index]\n",
    "\n",
    "    clf = tree.DecisionTreeClassifier()\n",
    "    clf = clf.fit(features_train, labels_train)\n",
    "\n",
    "    score = np.append(score, [clf.score (features_test, labels_test)])\n",
    "    \n",
    "print score\n",
    "print np.average(score)"
   ]
  },
  {
   "cell_type": "code",
   "execution_count": 21,
   "metadata": {},
   "outputs": [
    {
     "name": "stdout",
     "output_type": "stream",
     "text": [
      "[0.77083333 0.80851064 0.85106383]\n",
      "0.8101359338061466\n"
     ]
    }
   ],
   "source": [
    "np.random.seed(42)\n",
    "score = np.array([])\n",
    "\n",
    "kf = model_selection.KFold(n_splits=3, random_state=42)\n",
    "for train_index, test_index in kf.split(selected_features):\n",
    "    features_train = selected_features[train_index]\n",
    "    features_test = selected_features[test_index]\n",
    "    labels_train = np.array(labels)[train_index]\n",
    "    labels_test = np.array(labels)[test_index]\n",
    "\n",
    "    clf = tree.DecisionTreeClassifier()\n",
    "    clf = clf.fit(features_train, labels_train)\n",
    "\n",
    "    score = np.append(score, [clf.score (features_test, labels_test)])\n",
    "    \n",
    "print score\n",
    "print np.average(score)"
   ]
  },
  {
   "cell_type": "markdown",
   "metadata": {},
   "source": [
    "### Create a new feature: total_stock_value / total_payments"
   ]
  },
  {
   "cell_type": "code",
   "execution_count": 22,
   "metadata": {},
   "outputs": [
    {
     "name": "stdout",
     "output_type": "stream",
     "text": [
      "2 7\n",
      "[ 2.67102000e+05  1.29573800e+06  5.63434300e+06  0.00000000e+00\n",
      "  1.20000000e+06  0.00000000e+00 -1.38605500e+06  1.06232580e+07\n",
      "  1.12000000e+04  6.68054400e+06  2.66030300e+06  1.58605500e+06\n",
      "  3.94271400e+06  0.00000000e+00  0.00000000e+00  0.00000000e+00\n",
      "  0.00000000e+00  0.00000000e+00  0.00000000e+00  1.88544751e+00]\n",
      "('BAXTER JOHN C', {'salary': 267102, 'to_messages': 0, 'deferral_payments': 1295738, 'total_payments': 5634343, 'exercised_stock_options': 6680544, 'bonus': 1200000, 'restricted_stock': 3942714, 'shared_receipt_with_poi': 0, 'restricted_stock_deferred': 0, 'total_stock_value': 10623258, 'expenses': 11200, 'loan_advances': 0, 'from_messages': 0, 'other': 2660303, 'from_this_person_to_poi': 'NaN', 'poi': False, 'director_fees': 0, 'deferred_income': -1386055, 'long_term_incentive': 1586055, 'email_address': 'NaN', 'from_poi_to_this_person': 'NaN'})\n"
     ]
    }
   ],
   "source": [
    "index_total_payments = features_list[1:].index('total_payments')\n",
    "index_total_stock_value = features_list[1:].index('total_stock_value')\n",
    "\n",
    "print index_total_payments, index_total_stock_value\n",
    "\n",
    "for i in range(len(features)):\n",
    "    if features[i][index_total_payments] > 0:\n",
    "        features[i] = np.append(features[i][:19], [features[i][index_total_stock_value] / features[i][index_total_payments]])\n",
    "    else:\n",
    "        features[i] = np.append(features[i][:19], [0])\n",
    "\n",
    "print features[1]\n",
    "print data_dict.items()[1]"
   ]
  },
  {
   "cell_type": "code",
   "execution_count": 23,
   "metadata": {},
   "outputs": [
    {
     "data": {
      "image/png": "[encoded data removed]",
      "text/plain": [
       "<Figure size 432x288 with 1 Axes>"
      ]
     },
     "metadata": {},
     "output_type": "display_data"
    }
   ],
   "source": [
    "for i in range(len(features)):\n",
    "    if labels[i] == 1:\n",
    "        c = 'r'\n",
    "    else:\n",
    "        c = 'k'\n",
    "    plt.scatter(features[i][index_total_stock_value], features[i][-1], color=c)\n",
    "\n",
    "plt.xlabel(\"Total payments\")\n",
    "plt.ylabel(\"Stock-to-payments ratio\")\n",
    "plt.show()"
   ]
  },
  {
   "cell_type": "code",
   "execution_count": 24,
   "metadata": {
    "scrolled": true
   },
   "outputs": [
    {
     "name": "stdout",
     "output_type": "stream",
     "text": [
      "('HAUG DAVID L', {'salary': 0, 'to_messages': 573, 'deferral_payments': 0, 'total_payments': 475, 'exercised_stock_options': 0, 'bonus': 0, 'restricted_stock': 2217299, 'shared_receipt_with_poi': 471, 'restricted_stock_deferred': 0, 'total_stock_value': 2217299, 'expenses': 475, 'loan_advances': 0, 'from_messages': 19, 'other': 0, 'from_this_person_to_poi': 7, 'poi': False, 'director_fees': 0, 'deferred_income': 0, 'long_term_incentive': 0, 'email_address': 'david.haug@enron.com', 'from_poi_to_this_person': 4})\n"
     ]
    }
   ],
   "source": [
    "for i in range(len(features)):\n",
    "    if features[i][-1] > 4000:\n",
    "        print data_dict.items()[i]"
   ]
  },
  {
   "cell_type": "code",
   "execution_count": 25,
   "metadata": {
    "scrolled": true
   },
   "outputs": [
    {
     "data": {
      "image/png": "[encoded data removed]",
      "text/plain": [
       "<Figure size 432x288 with 1 Axes>"
      ]
     },
     "metadata": {},
     "output_type": "display_data"
    }
   ],
   "source": [
    "for i in range(len(features)):\n",
    "    if labels[i] == 1:\n",
    "        c = 'r'\n",
    "    else:\n",
    "        c = 'k'\n",
    "    plt.scatter(features[i][index_total_stock_value], features[i][-1], color=c)\n",
    "\n",
    "plt.xlabel(\"Total payments\")\n",
    "plt.ylabel(\"Stock-to-payments ratio\")\n",
    "plt.ylim(-20, 400)\n",
    "plt.show()"
   ]
  },
  {
   "cell_type": "code",
   "execution_count": 26,
   "metadata": {},
   "outputs": [
    {
     "name": "stdout",
     "output_type": "stream",
     "text": [
      "[(24.714052256343795, 'exercised_stock_options'), (23.896807476321385, 'total_stock_value'), (20.524645181851792, 'bonus'), (18.003739993113935, 'salary'), (11.321486775141238, 'deferred_income'), (9.772103538408254, 'long_term_incentive'), (9.17556940305799, 'total_payments'), (8.99886174843595, 'restricted_stock'), (8.495111177152825, 'shared_receipt_with_poi'), (7.1253824688830685, 'loan_advances'), (5.954544292197293, 'expenses'), (5.14221919450697, 'from_poi_to_this_person'), (4.1028045216285225, 'other'), (2.3399524507556366, 'from_this_person_to_poi'), (1.9723088299289142, 'director_fees'), (1.6109754038652737, 'to_messages'), (0.8499660035977262, 'restricted_stock_deferred'), (0.23671093690118508, 'deferral_payments'), (0.17484071858227693, 'from_messages'), (0.023632508525664474, 'stock_payment_ratio')]\n",
      "[(True, 'total_stock_value'), (True, 'salary'), (True, 'exercised_stock_options'), (True, 'bonus'), (False, 'total_payments'), (False, 'to_messages'), (False, 'stock_payment_ratio'), (False, 'shared_receipt_with_poi'), (False, 'restricted_stock_deferred'), (False, 'restricted_stock'), (False, 'other'), (False, 'long_term_incentive'), (False, 'loan_advances'), (False, 'from_this_person_to_poi'), (False, 'from_poi_to_this_person'), (False, 'from_messages'), (False, 'expenses'), (False, 'director_fees'), (False, 'deferred_income'), (False, 'deferral_payments')]\n"
     ]
    }
   ],
   "source": [
    "k_best = SelectKBest(k=4)\n",
    "selected_features = k_best.fit_transform(features, labels)\n",
    "\n",
    "print sorted(zip(k_best.scores_, features_list[1:] + ['stock_payment_ratio']), reverse=True)\n",
    "print sorted(zip(k_best.get_support(), features_list[1:] + ['stock_payment_ratio']), reverse=True)"
   ]
  },
  {
   "cell_type": "markdown",
   "metadata": {},
   "source": [
    "### Create a new feature: total_stock_value + total_payments"
   ]
  },
  {
   "cell_type": "code",
   "execution_count": 27,
   "metadata": {},
   "outputs": [
    {
     "name": "stdout",
     "output_type": "stream",
     "text": [
      "[ 2.6710200e+05  1.2957380e+06  5.6343430e+06  0.0000000e+00\n",
      "  1.2000000e+06  0.0000000e+00 -1.3860550e+06  1.0623258e+07\n",
      "  1.1200000e+04  6.6805440e+06  2.6603030e+06  1.5860550e+06\n",
      "  3.9427140e+06  0.0000000e+00  0.0000000e+00  0.0000000e+00\n",
      "  0.0000000e+00  0.0000000e+00  0.0000000e+00  1.6257601e+07]\n",
      "('BAXTER JOHN C', {'salary': 267102, 'to_messages': 0, 'deferral_payments': 1295738, 'total_payments': 5634343, 'exercised_stock_options': 6680544, 'bonus': 1200000, 'restricted_stock': 3942714, 'shared_receipt_with_poi': 0, 'restricted_stock_deferred': 0, 'total_stock_value': 10623258, 'expenses': 11200, 'loan_advances': 0, 'from_messages': 0, 'other': 2660303, 'from_this_person_to_poi': 'NaN', 'poi': False, 'director_fees': 0, 'deferred_income': -1386055, 'long_term_incentive': 1586055, 'email_address': 'NaN', 'from_poi_to_this_person': 'NaN'})\n"
     ]
    }
   ],
   "source": [
    "for i in range(len(features)):\n",
    "    if features[i][index_total_payments] > 0 and features[i][index_total_stock_value] > 0:\n",
    "        features[i] = np.append(features[i][:19], [features[i][index_total_stock_value] + features[i][index_total_payments]])\n",
    "    else:\n",
    "        features[i] = np.append(features[i][:19], [0])\n",
    "\n",
    "print features[1]\n",
    "print data_dict.items()[1]"
   ]
  },
  {
   "cell_type": "code",
   "execution_count": 28,
   "metadata": {},
   "outputs": [
    {
     "data": {
      "image/png": "[encoded data removed]",
      "text/plain": [
       "<Figure size 432x288 with 1 Axes>"
      ]
     },
     "metadata": {},
     "output_type": "display_data"
    }
   ],
   "source": [
    "for i in range(len(features)):\n",
    "    if labels[i] == 1:\n",
    "        c = 'r'\n",
    "    else:\n",
    "        c = 'k'\n",
    "    plt.scatter(features[i][index_total_stock_value], features[i][-1], color=c)\n",
    "\n",
    "plt.xlabel(\"Total payments\")\n",
    "plt.ylabel(\"Stock + payments\")\n",
    "plt.show()"
   ]
  },
  {
   "cell_type": "code",
   "execution_count": 29,
   "metadata": {
    "scrolled": true
   },
   "outputs": [
    {
     "name": "stdout",
     "output_type": "stream",
     "text": [
      "('LAY KENNETH L', {'salary': 1072321, 'to_messages': 4273, 'deferral_payments': 202911, 'total_payments': 103559793, 'exercised_stock_options': 34348384, 'bonus': 7000000, 'restricted_stock': 14761694, 'shared_receipt_with_poi': 2411, 'restricted_stock_deferred': 0, 'total_stock_value': 49110078, 'expenses': 99832, 'loan_advances': 81525000, 'from_messages': 36, 'other': 10359729, 'from_this_person_to_poi': 16, 'poi': True, 'director_fees': 0, 'deferred_income': -300000, 'long_term_incentive': 3600000, 'email_address': 'kenneth.lay@enron.com', 'from_poi_to_this_person': 123})\n"
     ]
    }
   ],
   "source": [
    "for i in range(len(features)):\n",
    "    if features[i][-1] > 1E8:\n",
    "        print data_dict.items()[i]"
   ]
  },
  {
   "cell_type": "code",
   "execution_count": 30,
   "metadata": {},
   "outputs": [
    {
     "name": "stdout",
     "output_type": "stream",
     "text": [
      "[(24.714052256343795, 'exercised_stock_options'), (23.896807476321385, 'total_stock_value'), (20.524645181851792, 'bonus'), (18.003739993113935, 'salary'), (17.607795269045265, 'stock_plus_payments'), (11.321486775141238, 'deferred_income'), (9.772103538408254, 'long_term_incentive'), (9.17556940305799, 'total_payments'), (8.99886174843595, 'restricted_stock'), (8.495111177152825, 'shared_receipt_with_poi'), (7.1253824688830685, 'loan_advances'), (5.954544292197293, 'expenses'), (5.14221919450697, 'from_poi_to_this_person'), (4.1028045216285225, 'other'), (2.3399524507556366, 'from_this_person_to_poi'), (1.9723088299289142, 'director_fees'), (1.6109754038652737, 'to_messages'), (0.8499660035977262, 'restricted_stock_deferred'), (0.23671093690118508, 'deferral_payments'), (0.17484071858227693, 'from_messages')]\n",
      "[(True, 'total_stock_value'), (True, 'stock_plus_payments'), (True, 'salary'), (True, 'exercised_stock_options'), (True, 'bonus'), (False, 'total_payments'), (False, 'to_messages'), (False, 'shared_receipt_with_poi'), (False, 'restricted_stock_deferred'), (False, 'restricted_stock'), (False, 'other'), (False, 'long_term_incentive'), (False, 'loan_advances'), (False, 'from_this_person_to_poi'), (False, 'from_poi_to_this_person'), (False, 'from_messages'), (False, 'expenses'), (False, 'director_fees'), (False, 'deferred_income'), (False, 'deferral_payments')]\n"
     ]
    }
   ],
   "source": [
    "k_best = SelectKBest(k=5)\n",
    "selected_features = k_best.fit_transform(features, labels)\n",
    "\n",
    "print sorted(zip(k_best.scores_, features_list[1:] + ['stock_plus_payments']), reverse=True)\n",
    "print sorted(zip(k_best.get_support(), features_list[1:] + ['stock_plus_payments']), reverse=True)"
   ]
  },
  {
   "cell_type": "code",
   "execution_count": 31,
   "metadata": {
    "scrolled": true
   },
   "outputs": [
    {
     "name": "stdout",
     "output_type": "stream",
     "text": [
      "[0.79166667 0.82978723 0.87234043]\n",
      "0.8312647754137116\n"
     ]
    }
   ],
   "source": [
    "np.random.seed(42)\n",
    "score = np.array([])\n",
    "\n",
    "kf = model_selection.KFold(n_splits=3, random_state=42)\n",
    "for train_index, test_index in kf.split(selected_features):\n",
    "    features_train = selected_features[train_index]\n",
    "    features_test = selected_features[test_index]\n",
    "    labels_train = np.array(labels)[train_index]\n",
    "    labels_test = np.array(labels)[test_index]\n",
    "\n",
    "    clf = tree.DecisionTreeClassifier()\n",
    "    clf = clf.fit(features_train, labels_train)\n",
    "\n",
    "    score = np.append(score, [clf.score (features_test, labels_test)])\n",
    "    \n",
    "print score\n",
    "print np.average(score)"
   ]
  },
  {
   "cell_type": "markdown",
   "metadata": {},
   "source": [
    "## Pick and tune an algorithm"
   ]
  },
  {
   "cell_type": "markdown",
   "metadata": {},
   "source": [
    "### LinearSVC:"
   ]
  },
  {
   "cell_type": "code",
   "execution_count": 32,
   "metadata": {},
   "outputs": [
    {
     "name": "stdout",
     "output_type": "stream",
     "text": [
      "[0.77083333 0.85106383 0.85106383]\n",
      "0.8243203309692672\n"
     ]
    }
   ],
   "source": [
    "from sklearn import svm\n",
    "\n",
    "np.random.seed(42)\n",
    "score = np.array([])\n",
    "\n",
    "kf = model_selection.KFold(n_splits=3, random_state=42)\n",
    "for train_index, test_index in kf.split(selected_features):\n",
    "    features_train = selected_features[train_index]\n",
    "    features_test = selected_features[test_index]\n",
    "    labels_train = np.array(labels)[train_index]\n",
    "    labels_test = np.array(labels)[test_index]\n",
    "\n",
    "    clf = svm.LinearSVC()\n",
    "    clf = clf.fit(features_train, labels_train)\n",
    "\n",
    "    score = np.append(score, [clf.score (features_test, labels_test)])\n",
    "    \n",
    "print score\n",
    "print np.average(score)"
   ]
  },
  {
   "cell_type": "code",
   "execution_count": 33,
   "metadata": {},
   "outputs": [
    {
     "name": "stdout",
     "output_type": "stream",
     "text": [
      "{'multi_class': 'crammer_singer', 'C': 1, 'dual': False}\n",
      "0.8787878787878788\n",
      "0.7906976744186046\n",
      "             precision    recall  f1-score   support\n",
      "\n",
      "        0.0       0.83      0.94      0.88        36\n",
      "        1.0       0.00      0.00      0.00         7\n",
      "\n",
      "avg / total       0.69      0.79      0.74        43\n",
      "\n"
     ]
    }
   ],
   "source": [
    "from sklearn import metrics\n",
    "\n",
    "np.random.seed(42)\n",
    "score = np.array([])\n",
    "\n",
    "features_train, features_test, labels_train, labels_test = model_selection.train_test_split(features, labels, test_size=.3, random_state=42)\n",
    "\n",
    "parameters = {'multi_class':('ovr', 'crammer_singer'), 'C':(1, 10, 100), 'dual':(True, False)}\n",
    "svr = svm.LinearSVC()\n",
    "clf = model_selection.GridSearchCV(svr, parameters, cv=5)\n",
    "clf.fit(features_train, labels_train)\n",
    "\n",
    "print clf.best_params_\n",
    "print clf.best_score_\n",
    "print clf.score (features_test, labels_test)\n",
    "print metrics.classification_report(labels_test, clf.predict(features_test))"
   ]
  },
  {
   "cell_type": "code",
   "execution_count": 34,
   "metadata": {},
   "outputs": [
    {
     "name": "stderr",
     "output_type": "stream",
     "text": [
      "C:\\Users\\PERELGRITZ_J\\AppData\\Local\\Continuum\\anaconda2\\lib\\site-packages\\sklearn\\metrics\\classification.py:1135: UndefinedMetricWarning: Precision and F-score are ill-defined and being set to 0.0 in labels with no predicted samples.\n",
      "  'precision', 'predicted', average, warn_for)\n"
     ]
    },
    {
     "name": "stdout",
     "output_type": "stream",
     "text": [
      "             precision    recall  f1-score   support\n",
      "\n",
      "        0.0       0.92      1.00      0.96        44\n",
      "        1.0       0.00      0.00      0.00         4\n",
      "\n",
      "avg / total       0.84      0.92      0.88        48\n",
      "\n",
      "\n",
      "             precision    recall  f1-score   support\n",
      "\n",
      "        0.0       0.81      1.00      0.89        38\n",
      "        1.0       0.00      0.00      0.00         9\n",
      "\n",
      "avg / total       0.65      0.81      0.72        47\n",
      "\n",
      "\n",
      "             precision    recall  f1-score   support\n",
      "\n",
      "        0.0       0.89      1.00      0.94        42\n",
      "        1.0       0.00      0.00      0.00         5\n",
      "\n",
      "avg / total       0.80      0.89      0.84        47\n",
      "\n",
      "\n",
      "[0.91666667 0.80851064 0.89361702]\n",
      "0.8729314420803783\n"
     ]
    }
   ],
   "source": [
    "np.random.seed(42)\n",
    "score = np.array([])\n",
    "\n",
    "kf = model_selection.KFold(n_splits=3, random_state=42)\n",
    "for train_index, test_index in kf.split(selected_features):\n",
    "    features_train = selected_features[train_index]\n",
    "    features_test = selected_features[test_index]\n",
    "    labels_train = np.array(labels)[train_index]\n",
    "    labels_test = np.array(labels)[test_index]\n",
    "\n",
    "    clf = svm.LinearSVC(multi_class='crammer_singer', C=1, dual=False)\n",
    "    clf = clf.fit(features_train, labels_train)\n",
    "\n",
    "    score = np.append(score, [clf.score (features_test, labels_test)])\n",
    "    \n",
    "    print metrics.classification_report(labels_test, clf.predict(features_test))\n",
    "    print\n",
    "\n",
    "print score\n",
    "print np.average(score)\n"
   ]
  },
  {
   "cell_type": "markdown",
   "metadata": {},
   "source": [
    "### KNeighborsClassifier:"
   ]
  },
  {
   "cell_type": "code",
   "execution_count": 35,
   "metadata": {},
   "outputs": [
    {
     "name": "stdout",
     "output_type": "stream",
     "text": [
      "{'n_neighbors': 10, 'weights': 'uniform', 'algorithm': 'auto', 'p': 1}\n",
      "0.8888888888888888\n",
      "0.8372093023255814\n",
      "             precision    recall  f1-score   support\n",
      "\n",
      "        0.0       0.84      1.00      0.91        36\n",
      "        1.0       0.00      0.00      0.00         7\n",
      "\n",
      "avg / total       0.70      0.84      0.76        43\n",
      "\n"
     ]
    }
   ],
   "source": [
    "from sklearn import neighbors\n",
    "\n",
    "np.random.seed(42)\n",
    "score = np.array([])\n",
    "\n",
    "features_train, features_test, labels_train, labels_test = model_selection.train_test_split(features, labels, test_size=.3, random_state=42)\n",
    "\n",
    "parameters = {'weights':('uniform', 'distance'), 'n_neighbors':[1, 20], \n",
    "              'algorithm':('auto', 'ball_tree', 'kd_tree', 'brute'), \n",
    "              'n_neighbors':[10, 50], 'p':(1, 2)}\n",
    "svr = neighbors.KNeighborsClassifier()\n",
    "clf = model_selection.GridSearchCV(svr, parameters)\n",
    "clf.fit(features_train, labels_train)\n",
    "\n",
    "print clf.best_params_\n",
    "print clf.best_score_\n",
    "print clf.score (features_test, labels_test)\n",
    "print metrics.classification_report(labels_test, clf.predict(features_test))"
   ]
  },
  {
   "cell_type": "code",
   "execution_count": 36,
   "metadata": {
    "scrolled": false
   },
   "outputs": [
    {
     "name": "stdout",
     "output_type": "stream",
     "text": [
      "             precision    recall  f1-score   support\n",
      "\n",
      "        0.0       0.92      1.00      0.96        44\n",
      "        1.0       0.00      0.00      0.00         4\n",
      "\n",
      "avg / total       0.84      0.92      0.88        48\n",
      "\n",
      "94 48\n",
      "             precision    recall  f1-score   support\n",
      "\n",
      "        0.0       0.81      1.00      0.89        38\n",
      "        1.0       0.00      0.00      0.00         9\n",
      "\n",
      "avg / total       0.65      0.81      0.72        47\n",
      "\n",
      "95 47\n",
      "             precision    recall  f1-score   support\n",
      "\n",
      "        0.0       0.89      1.00      0.94        42\n",
      "        1.0       0.00      0.00      0.00         5\n",
      "\n",
      "avg / total       0.80      0.89      0.84        47\n",
      "\n",
      "95 47\n",
      "[0.91666667 0.80851064 0.89361702]\n",
      "0.8729314420803783\n"
     ]
    }
   ],
   "source": [
    "np.random.seed(42)\n",
    "score = np.array([])\n",
    "\n",
    "kf = model_selection.KFold(n_splits=3, random_state=42)\n",
    "for train_index, test_index in kf.split(selected_features):\n",
    "    features_train = selected_features[train_index]\n",
    "    features_test = selected_features[test_index]\n",
    "    labels_train = np.array(labels)[train_index]\n",
    "    labels_test = np.array(labels)[test_index]\n",
    "\n",
    "    clf = neighbors.KNeighborsClassifier(n_neighbors=10, weights='uniform', \n",
    "                                        algorithm='auto', p=1)\n",
    "    clf = clf.fit(features_train, labels_train)\n",
    "\n",
    "    score = np.append(score, [clf.score (features_test, labels_test)])\n",
    "    \n",
    "    print metrics.classification_report(labels_test, clf.predict(features_test))\n",
    "    print len(features_train), len (features_test)\n",
    "    \n",
    "print score\n",
    "print np.average(score)"
   ]
  },
  {
   "cell_type": "code",
   "execution_count": 37,
   "metadata": {},
   "outputs": [
    {
     "name": "stdout",
     "output_type": "stream",
     "text": [
      "142\n"
     ]
    }
   ],
   "source": [
    "print len(selected_features)"
   ]
  },
  {
   "cell_type": "markdown",
   "metadata": {},
   "source": [
    "### Trying to maximise recall"
   ]
  },
  {
   "cell_type": "code",
   "execution_count": 39,
   "metadata": {
    "scrolled": true
   },
   "outputs": [
    {
     "name": "stdout",
     "output_type": "stream",
     "text": [
      "{'multi_class': 'ovr', 'C': 10, 'dual': True}\n",
      "0.3888888888888889\n",
      "0.2857142857142857\n",
      "             precision    recall  f1-score   support\n",
      "\n",
      "        0.0       0.87      0.92      0.89        36\n",
      "        1.0       0.40      0.29      0.33         7\n",
      "\n",
      "avg / total       0.79      0.81      0.80        43\n",
      "\n"
     ]
    }
   ],
   "source": [
    "np.random.seed(42)\n",
    "score = np.array([])\n",
    "\n",
    "features_train, features_test, labels_train, labels_test = model_selection.train_test_split(features, labels, test_size=.3, random_state=42)\n",
    "\n",
    "parameters = {'multi_class':('ovr', 'crammer_singer'), 'C':(1, 10, 100), 'dual':(True, False)}\n",
    "svr = svm.LinearSVC()\n",
    "clf = model_selection.GridSearchCV(svr, parameters, cv=5, scoring='recall')\n",
    "clf.fit(features_train, labels_train)\n",
    "\n",
    "print clf.best_params_\n",
    "print clf.best_score_\n",
    "print clf.score (features_test, labels_test)\n",
    "print metrics.classification_report(labels_test, clf.predict(features_test))"
   ]
  },
  {
   "cell_type": "markdown",
   "metadata": {},
   "source": [
    "### Trying to maximise F1"
   ]
  },
  {
   "cell_type": "code",
   "execution_count": 40,
   "metadata": {
    "scrolled": true
   },
   "outputs": [
    {
     "name": "stderr",
     "output_type": "stream",
     "text": [
      "C:\\Users\\PERELGRITZ_J\\AppData\\Local\\Continuum\\anaconda2\\lib\\site-packages\\sklearn\\metrics\\classification.py:1135: UndefinedMetricWarning: F-score is ill-defined and being set to 0.0 due to no predicted samples.\n",
      "  'precision', 'predicted', average, warn_for)\n"
     ]
    },
    {
     "name": "stdout",
     "output_type": "stream",
     "text": [
      "{'multi_class': 'ovr', 'C': 10, 'dual': True}\n",
      "0.3153759820426487\n",
      "0.3333333333333333\n",
      "             precision    recall  f1-score   support\n",
      "\n",
      "        0.0       0.87      0.92      0.89        36\n",
      "        1.0       0.40      0.29      0.33         7\n",
      "\n",
      "avg / total       0.79      0.81      0.80        43\n",
      "\n"
     ]
    }
   ],
   "source": [
    "np.random.seed(42)\n",
    "score = np.array([])\n",
    "\n",
    "features_train, features_test, labels_train, labels_test = model_selection.train_test_split(features, labels, test_size=.3, random_state=42)\n",
    "\n",
    "parameters = {'multi_class':('ovr', 'crammer_singer'), 'C':(1, 10, 100), 'dual':(True, False)}\n",
    "svr = svm.LinearSVC()\n",
    "clf = model_selection.GridSearchCV(svr, parameters, cv=5, scoring='f1')\n",
    "clf.fit(features_train, labels_train)\n",
    "\n",
    "print clf.best_params_\n",
    "print clf.best_score_\n",
    "print clf.score (features_test, labels_test)\n",
    "print metrics.classification_report(labels_test, clf.predict(features_test))"
   ]
  },
  {
   "cell_type": "markdown",
   "metadata": {},
   "source": [
    "### Trying to maximise precision"
   ]
  },
  {
   "cell_type": "code",
   "execution_count": 41,
   "metadata": {
    "scrolled": true
   },
   "outputs": [
    {
     "name": "stderr",
     "output_type": "stream",
     "text": [
      "C:\\Users\\PERELGRITZ_J\\AppData\\Local\\Continuum\\anaconda2\\lib\\site-packages\\sklearn\\metrics\\classification.py:1135: UndefinedMetricWarning: Precision is ill-defined and being set to 0.0 due to no predicted samples.\n",
      "  'precision', 'predicted', average, warn_for)\n"
     ]
    },
    {
     "name": "stdout",
     "output_type": "stream",
     "text": [
      "{'multi_class': 'ovr', 'C': 100, 'dual': True}\n",
      "0.32996632996632996\n",
      "0.4\n",
      "             precision    recall  f1-score   support\n",
      "\n",
      "        0.0       0.87      0.92      0.89        36\n",
      "        1.0       0.40      0.29      0.33         7\n",
      "\n",
      "avg / total       0.79      0.81      0.80        43\n",
      "\n"
     ]
    }
   ],
   "source": [
    "np.random.seed(42)\n",
    "score = np.array([])\n",
    "\n",
    "features_train, features_test, labels_train, labels_test = model_selection.train_test_split(features, labels, test_size=.3, random_state=42)\n",
    "\n",
    "parameters = {'multi_class':('ovr', 'crammer_singer'), 'C':(1, 10, 100), 'dual':(True, False)}\n",
    "svr = svm.LinearSVC()\n",
    "clf = model_selection.GridSearchCV(svr, parameters, cv=5, scoring='precision')\n",
    "clf.fit(features_train, labels_train)\n",
    "\n",
    "print clf.best_params_\n",
    "print clf.best_score_\n",
    "print clf.score (features_test, labels_test)\n",
    "print metrics.classification_report(labels_test, clf.predict(features_test))"
   ]
  },
  {
   "cell_type": "code",
   "execution_count": 44,
   "metadata": {},
   "outputs": [
    {
     "name": "stdout",
     "output_type": "stream",
     "text": [
      "{'n_neighbors': 10, 'weights': 'uniform', 'algorithm': 'auto', 'p': 1}\n",
      "0.0\n",
      "0.0\n",
      "             precision    recall  f1-score   support\n",
      "\n",
      "        0.0       0.84      1.00      0.91        36\n",
      "        1.0       0.00      0.00      0.00         7\n",
      "\n",
      "avg / total       0.70      0.84      0.76        43\n",
      "\n"
     ]
    }
   ],
   "source": [
    "np.random.seed(42)\n",
    "score = np.array([])\n",
    "\n",
    "features_train, features_test, labels_train, labels_test = model_selection.train_test_split(features, labels, test_size=.3, random_state=42)\n",
    "\n",
    "parameters = {'weights':('uniform', 'distance'), 'n_neighbors':[1, 20], \n",
    "              'algorithm':('auto', 'ball_tree', 'kd_tree', 'brute'), \n",
    "              'n_neighbors':[10, 50], 'p':(1, 2)}\n",
    "svr = neighbors.KNeighborsClassifier()\n",
    "clf = model_selection.GridSearchCV(svr, parameters, scoring=\"recall\")\n",
    "clf.fit(features_train, labels_train)\n",
    "\n",
    "print clf.best_params_\n",
    "print clf.best_score_\n",
    "print clf.score (features_test, labels_test)\n",
    "print metrics.classification_report(labels_test, clf.predict(features_test))"
   ]
  }
 ],
 "metadata": {
  "kernelspec": {
   "display_name": "Python 2",
   "language": "python",
   "name": "python2"
  },
  "language_info": {
   "codemirror_mode": {
    "name": "ipython",
    "version": 2
   },
   "file_extension": ".py",
   "mimetype": "text/x-python",
   "name": "python",
   "nbconvert_exporter": "python",
   "pygments_lexer": "ipython2",
   "version": "2.7.15"
  }
 },
 "nbformat": 4,
 "nbformat_minor": 2
}
